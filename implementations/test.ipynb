{
 "cells": [
  {
   "cell_type": "code",
   "execution_count": 1,
   "metadata": {},
   "outputs": [],
   "source": [
    "class Node:\n",
    "    def __init__(self, item):\n",
    "        self.item = item\n",
    "        self.next = None\n",
    "\n",
    "class LinkedList:\n",
    "    def __init__(self):\n",
    "        self.head = Node(-1)\n",
    "        self.tail = self.head\n",
    "        self.sz = 0\n",
    "\n",
    "    def size(self):\n",
    "        return self.sz\n",
    "\n",
    "    def empty(self):\n",
    "        if self.sz == 0:\n",
    "            return True\n",
    "        return False\n",
    "    \n",
    "    def value_at(self, index: int):\n",
    "        current = self.head.next \n",
    "        i = 0\n",
    "        while current:\n",
    "            if i == index:\n",
    "                return current.item\n",
    "            i += 1\n",
    "            current = current.next\n",
    "        raise Exception(\"index out of bounds\")\n",
    "\n",
    "    def push_front(self, value):\n",
    "        new_node = Node(value)\n",
    "        new_node.next = self.head.next \n",
    "        self.head.next = new_node\n",
    "        if not new_node.next:\n",
    "            # if linked list was empty before inserting\n",
    "            self.tail = new_node\n",
    "        self.sz += 1\n",
    "\n",
    "    def pop_front(self):\n",
    "        current = self.head\n",
    "        if not current.next:\n",
    "            raise Exception(\"LinkedList is empty\")\n",
    "        value = current.next.item\n",
    "        if current.next == self.tail:\n",
    "            self.tail = current\n",
    "        current.next = current.next.next\n",
    "        return value\n",
    "\n",
    "    def push_back(self, value):\n",
    "        self.tail.next = Node(value)\n",
    "        self.tail = self.tail.next\n",
    "        self.sz += 1\n",
    "\n",
    "    def pop_back(self):\n",
    "        i = 0\n",
    "        current = self.head\n",
    "        while i < self.sz and current:\n",
    "            i += 1\n",
    "            current = current.next\n",
    "        value = self.tail.item\n",
    "        current.next = None\n",
    "        self.tail = current\n",
    "        return value\n",
    "    \n",
    "    def front(self):\n",
    "        return self.head.item\n",
    "\n",
    "    def back(self):\n",
    "        return self.tail.item\n",
    "\n",
    "    def insert(self,index,item):\n",
    "        i = 0\n",
    "        current = self.head\n",
    "        while i<index and current:\n",
    "            i+=1\n",
    "            current = current.next\n",
    "        if current and current.next:\n",
    "            new_node = Node(item)\n",
    "            new_node.next = current.next\n",
    "            current.next = new_node\n",
    "        else:\n",
    "            raise Exception(\"Index out of bounds\")\n",
    "\n",
    "    def erase(self, index):\n",
    "        i = 0\n",
    "        current = self.head\n",
    "        while i < index and current:\n",
    "            i+=1\n",
    "            current = current.next\n",
    "        if current and current.next:\n",
    "            if current.next == self.tail:\n",
    "                self.tail = current\n",
    "            current.next = current.next.next\n",
    "            return\n",
    "        raise Exception(\"Index out of bounds\")\n",
    "    \n",
    "    def value_n_from_end(self,n):\n",
    "        current = self.head.next \n",
    "        i = 0\n",
    "        while current:\n",
    "            if i == self.sz - n:\n",
    "                return current.item\n",
    "            i += 1\n",
    "            current = current.next\n",
    "        raise Exception(\"index out of bounds\")\n",
    "\n",
    "    def remove_value(self,item):\n",
    "        current = self.head\n",
    "        i = 0\n",
    "        while current.item != item:\n",
    "            i +=1\n",
    "            current = current.next\n",
    "        if i > self.sz:\n",
    "            raise Exception(\"Not found\")\n",
    "        else:\n",
    "            self.erase(i)\n",
    "    \n",
    "    def reverse(self):\n",
    "        prev = None\n",
    "        current = self.head\n",
    "        while current:\n",
    "            next_node = current.next\n",
    "            current.next = prev\n",
    "            prev = current\n",
    "            current = next_node\n",
    "\n",
    "            \n",
    "\n"
   ]
  },
  {
   "cell_type": "code",
   "execution_count": 2,
   "metadata": {},
   "outputs": [],
   "source": [
    "l = LinkedList()"
   ]
  },
  {
   "cell_type": "code",
   "execution_count": 10,
   "metadata": {},
   "outputs": [],
   "source": [
    "l.push_front(1)"
   ]
  },
  {
   "cell_type": "code",
   "execution_count": 14,
   "metadata": {},
   "outputs": [],
   "source": [
    "l.push_back(2)\n",
    "l.push_back(3)"
   ]
  },
  {
   "cell_type": "code",
   "execution_count": 20,
   "metadata": {},
   "outputs": [],
   "source": [
    "l.reverse()"
   ]
  },
  {
   "cell_type": "code",
   "execution_count": 22,
   "metadata": {},
   "outputs": [
    {
     "data": {
      "text/plain": [
       "-1"
      ]
     },
     "execution_count": 22,
     "metadata": {},
     "output_type": "execute_result"
    }
   ],
   "source": [
    "l.front()"
   ]
  }
 ],
 "metadata": {
  "kernelspec": {
   "display_name": "base",
   "language": "python",
   "name": "python3"
  },
  "language_info": {
   "codemirror_mode": {
    "name": "ipython",
    "version": 3
   },
   "file_extension": ".py",
   "mimetype": "text/x-python",
   "name": "python",
   "nbconvert_exporter": "python",
   "pygments_lexer": "ipython3",
   "version": "3.12.3"
  }
 },
 "nbformat": 4,
 "nbformat_minor": 2
}
