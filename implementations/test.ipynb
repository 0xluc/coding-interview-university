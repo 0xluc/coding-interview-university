{
 "cells": [
  {
   "cell_type": "code",
   "execution_count": 7,
   "metadata": {},
   "outputs": [],
   "source": [
    "class Vector:\n",
    "    def __init__(self, cpcty: int):\n",
    "        self.cpcty = 16\n",
    "        while cpcty > self.cpcty:\n",
    "            self.cpcty *= 2\n",
    "        self.s = 0\n",
    "        self.arr = [None] * cpcty\n",
    "\n",
    "    def __resize(self, new_capacity: int):\n",
    "        self.cpcty = new_capacity\n",
    "        new_arr = [None] * self.cpcty\n",
    "\n",
    "        for i in range(self.s):\n",
    "            new_arr[i] = self.arr[i]\n",
    "        self.arr = new_arr\n",
    "\n",
    "    def size(self):\n",
    "        return self.s\n",
    "\n",
    "    def at(self, index: int):\n",
    "        if index> self.s:\n",
    "            raise Exception(\"Index out of bounds\")\n",
    "        return self.arr[index]\n",
    "\n",
    "    def insert(self, index: int, item) -> None:\n",
    "        if self.s == self.capacity:\n",
    "            self.__resize(self.cpcty * 2)\n",
    "        if index > self.s:\n",
    "            raise Exception(\"Index out of bounds\")\n",
    "        for i in range(index, self.s):\n",
    "            self.arr[i + 1] = self.arr[i]\n",
    "        self.arr[index] = item\n",
    "\n",
    "    def prepend(self, item):\n",
    "        self.insert(0, item)\n",
    "\n",
    "    def push(self, value) -> None:\n",
    "        if self.s == self.capacity:\n",
    "            self.__resize(self.cpcty * 2)\n",
    "        self.arr[self.s] = value\n",
    "        self.s += 1\n",
    "    \n",
    "    def pop(self):\n",
    "        if self.s == 0:\n",
    "            raise Exception(\"Error: empty array\")\n",
    "        value = self.arr[self.s]\n",
    "        self.arr[self.s] = None\n",
    "        self.s -= 1\n",
    "        return value\n",
    "    \n",
    "    def delete(self, index: int):\n",
    "        if self.s < self.cpcty // 4:\n",
    "            self.__resize(self.cpcty // 2)\n",
    "        if index > self.s:\n",
    "            raise Exception(\"Index out of bounds\")\n",
    "        for i in range(index, self.s):\n",
    "            self.arr[i] = self.arr[i + 1]\n",
    "        self.arr[self.s] = None\n",
    "        self.s -= 1\n",
    "    def remove(self, item):\n",
    "        \"\"\"Author wrote: remove(item) - looks for value and removes index holding it (even if in multiple places)\n",
    "            But I don't quite understand what he mean by it and since it's a O(n) operation, I assume that I need\n",
    "            to turn the element into None again\n",
    "        \"\"\"\n",
    "        for i in range(self.s - 1):\n",
    "            if self.arr[i] == item:\n",
    "                self.arr[i] = None\n",
    "\n",
    "    def capacity(self):\n",
    "        return self.cpcty\n",
    "    \n",
    "    def is_empty(self):\n",
    "        if self.s == 0:\n",
    "            return True\n",
    "        return False\n",
    "    \n",
    "\n"
   ]
  },
  {
   "cell_type": "code",
   "execution_count": 8,
   "metadata": {},
   "outputs": [],
   "source": [
    "newVector = Vector(17)"
   ]
  },
  {
   "cell_type": "code",
   "execution_count": 16,
   "metadata": {},
   "outputs": [
    {
     "name": "stdout",
     "output_type": "stream",
     "text": [
      "3\n",
      "32\n",
      "teste\n"
     ]
    }
   ],
   "source": [
    "print(newVector.size())\n",
    "print(newVector.capacity())\n",
    "newVector.push(\"teste\")\n",
    "print(newVector.at(0))"
   ]
  },
  {
   "cell_type": "code",
   "execution_count": 19,
   "metadata": {},
   "outputs": [
    {
     "name": "stdout",
     "output_type": "stream",
     "text": [
      "False\n"
     ]
    },
    {
     "data": {
      "text/plain": [
       "4"
      ]
     },
     "execution_count": 19,
     "metadata": {},
     "output_type": "execute_result"
    }
   ],
   "source": [
    "print(newVector.is_empty())\n",
    "newVector.remove(\"teste\")\n",
    "newVector.size()"
   ]
  }
 ],
 "metadata": {
  "kernelspec": {
   "display_name": "base",
   "language": "python",
   "name": "python3"
  },
  "language_info": {
   "codemirror_mode": {
    "name": "ipython",
    "version": 3
   },
   "file_extension": ".py",
   "mimetype": "text/x-python",
   "name": "python",
   "nbconvert_exporter": "python",
   "pygments_lexer": "ipython3",
   "version": "3.12.3"
  }
 },
 "nbformat": 4,
 "nbformat_minor": 2
}
